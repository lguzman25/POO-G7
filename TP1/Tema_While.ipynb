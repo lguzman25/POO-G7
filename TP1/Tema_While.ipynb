{
 "cells": [
  {
   "cell_type": "markdown",
   "metadata": {},
   "source": [
    "### Ejercicio 1 (Básico - Completar Código)\n",
    "Completa el siguiente código para que imprima los números del 10 al 1 en orden descendente utilizando un bucle while:"
   ]
  },
  {
   "cell_type": "code",
   "execution_count": null,
   "metadata": {},
   "outputs": [],
   "source": [
    "x = ____\n",
    "while ____:\n",
    "    print(____)\n",
    "    ____\n"
   ]
  },
  {
   "cell_type": "markdown",
   "metadata": {},
   "source": [
    "### Ejercicio 2 (Intermedio - Escribir Código desde Cero)\n",
    "Escribe un programa que pida un número positivo al usuario y verifique que sea realmente positivo. Si el usuario ingresa un número negativo, el programa debe seguir pidiendo el número hasta que ingrese uno positivo."
   ]
  },
  {
   "cell_type": "code",
   "execution_count": null,
   "metadata": {},
   "outputs": [],
   "source": []
  },
  {
   "cell_type": "markdown",
   "metadata": {},
   "source": [
    "### Ejercicio 3 (Avanzado - Aplicar While Anidado y Lógica Adicional)\n",
    "Crea un programa que genere y muestre la tabla de multiplicar de un número ingresado por el usuario, desde el 1 hasta el 10.\n",
    "El programa debe permitir al usuario ingresar múltiples números hasta que decida salir ingresando 0."
   ]
  },
  {
   "cell_type": "code",
   "execution_count": null,
   "metadata": {},
   "outputs": [],
   "source": []
  }
 ],
 "metadata": {
  "kernelspec": {
   "display_name": "entorno_san_pablo",
   "language": "python",
   "name": "python3"
  },
  "language_info": {
   "name": "python",
   "version": "3.10.12"
  }
 },
 "nbformat": 4,
 "nbformat_minor": 2
}
