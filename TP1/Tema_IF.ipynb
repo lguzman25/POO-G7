{
 "cells": [
  {
   "cell_type": "markdown",
   "metadata": {},
   "source": [
    "### Ejercicio 1 (Básico - Completar Código)\n",
    "Completa el siguiente código para que verifique si un número ingresado por el usuario es positivo, negativo o cero."
   ]
  },
  {
   "cell_type": "code",
   "execution_count": null,
   "metadata": {},
   "outputs": [],
   "source": [
    "num = int(input(\"Ingrese un número: \"))\n",
    "\n",
    "if num > 0:\n",
    "    print(\"El número es ________\")\n",
    "elif num < 0:\n",
    "    print(\"El número es ________\")\n",
    "else:\n",
    "    print(\"El número es ________\")\n"
   ]
  },
  {
   "cell_type": "markdown",
   "metadata": {},
   "source": [
    "### Ejercicio 2 (Intermedio - Escribir Código desde Cero)\n",
    "Escribe un programa que pida al usuario su edad y determine si es un niño (0-12 años), un adolescente (13-17 años), un adulto (18-64 años) o un adulto mayor (65 años o más). Usa if, elif y else."
   ]
  },
  {
   "cell_type": "code",
   "execution_count": null,
   "metadata": {},
   "outputs": [],
   "source": []
  },
  {
   "cell_type": "markdown",
   "metadata": {},
   "source": [
    "### Ejercicio 3 (Avanzado - Investigar y Aplicar el Operador Ternario)\n",
    "Crea un programa que reciba dos números enteros del usuario e indique cuál es el mayor utilizando el operador ternario. Si los números son iguales, debe mostrar un mensaje indicándolo."
   ]
  },
  {
   "cell_type": "code",
   "execution_count": null,
   "metadata": {},
   "outputs": [],
   "source": []
  }
 ],
 "metadata": {
  "kernelspec": {
   "display_name": "entorno_san_pablo",
   "language": "python",
   "name": "python3"
  },
  "language_info": {
   "name": "python",
   "version": "3.10.12"
  }
 },
 "nbformat": 4,
 "nbformat_minor": 2
}
