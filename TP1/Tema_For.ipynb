{
 "cells": [
  {
   "cell_type": "markdown",
   "metadata": {},
   "source": [
    "### Ejercicio 1 (Básico - Completar Código)\n",
    "Completa el siguiente código para que imprima los números del 1 al 10 utilizando un bucle for:"
   ]
  },
  {
   "cell_type": "code",
   "execution_count": null,
   "metadata": {},
   "outputs": [],
   "source": [
    "for i in ______(____, ____):\n",
    "    print(____)\n"
   ]
  },
  {
   "cell_type": "markdown",
   "metadata": {},
   "source": [
    "### Ejercicio 2 (Intermedio - Escribir Código desde Cero)\n",
    "Escribe un programa que pida una palabra al usuario y la imprima letra por letra en mayúsculas, usando un bucle for."
   ]
  },
  {
   "cell_type": "code",
   "execution_count": null,
   "metadata": {},
   "outputs": [],
   "source": [
    "#pista\n",
    "letra_min = \"a\"\n",
    "letra_may = \"B\"\n",
    "\n",
    "print(letra_min.upper())\n",
    "print(letra_may.lower())"
   ]
  },
  {
   "cell_type": "code",
   "execution_count": null,
   "metadata": {},
   "outputs": [],
   "source": [
    "\n"
   ]
  },
  {
   "cell_type": "markdown",
   "metadata": {},
   "source": [
    "### Ejercicio 3 (Avanzado - Aplicar For Anidados e Investigación)\n",
    "Escribe un programa que reciba una lista de listas (matriz) con números enteros e imprima la suma de cada fila. Usa for anidados para recorrer la matriz."
   ]
  },
  {
   "cell_type": "code",
   "execution_count": null,
   "metadata": {},
   "outputs": [],
   "source": [
    "# Ejemplo de entrada:\n",
    "\n",
    "matriz = [\n",
    "    [2, 4, 6],\n",
    "    [1, 3, 5],\n",
    "    [7, 8, 9]\n",
    "]"
   ]
  },
  {
   "cell_type": "markdown",
   "metadata": {},
   "source": [
    "#### Salida esperada\n",
    "Suma de la fila 1: 12  \n",
    "Suma de la fila 2: 9  \n",
    "Suma de la fila 3: 24  \n"
   ]
  },
  {
   "cell_type": "code",
   "execution_count": null,
   "metadata": {},
   "outputs": [],
   "source": []
  }
 ],
 "metadata": {
  "kernelspec": {
   "display_name": "entorno_san_pablo",
   "language": "python",
   "name": "python3"
  },
  "language_info": {
   "codemirror_mode": {
    "name": "ipython",
    "version": 3
   },
   "file_extension": ".py",
   "mimetype": "text/x-python",
   "name": "python",
   "nbconvert_exporter": "python",
   "pygments_lexer": "ipython3",
   "version": "3.10.12"
  }
 },
 "nbformat": 4,
 "nbformat_minor": 2
}
