{
 "cells": [
  {
   "cell_type": "code",
   "execution_count": null,
   "id": "0cbc3576",
   "metadata": {},
   "outputs": [],
   "source": [
    "# 1. Definición de la Clase 'Persona'\n",
    "class Persona:\n",
    "    # El método __init__ es el constructor.\n",
    "    # Se llama automáticamente cuando creamos un nuevo objeto de esta clase.\n",
    "    def __init__(self, nombre, edad):\n",
    "        self.nombre = nombre # 'self.nombre' es un atributo del objeto\n",
    "        self.edad = edad     # 'self.edad' es otro atributo\n",
    "\n",
    "    # Un método (función asociada a la clase)\n",
    "    def saludar(self):\n",
    "        print(f\"Hola, mi nombre es {self.nombre} y tengo {self.edad} años.\")\n",
    "\n",
    "# 2. Creación de Objetos (Instancias de la Clase 'Persona')\n",
    "persona1 = Persona(\"Ana\", 16)\n",
    "persona2 = Persona(\"Juan\", 17)\n",
    "persona3 = Persona(\"María\", 15)\n",
    "\n",
    "# 3. Acceder a los atributos de los objetos\n",
    "print(f\"El nombre de persona1 es: {persona1.nombre}\")\n",
    "print(f\"La edad de persona2 es: {persona2.edad}\")\n",
    "\n",
    "# 4. Llamar a los métodos de los objetos\n",
    "persona1.saludar()\n",
    "persona2.saludar()\n",
    "persona3.saludar()\n",
    "\n",
    "# ¿Qué pasa si intentamos acceder a un atributo que no existe?\n",
    "# print(persona1.apellido) # Esto daría un error (AttributeError)"
   ]
  }
 ],
 "metadata": {
  "kernelspec": {
   "display_name": "Python 3",
   "language": "python",
   "name": "python3"
  },
  "language_info": {
   "name": "python",
   "version": "3.10.6"
  }
 },
 "nbformat": 4,
 "nbformat_minor": 5
}
