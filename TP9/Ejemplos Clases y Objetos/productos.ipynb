{
 "cells": [
  {
   "cell_type": "code",
   "execution_count": null,
   "id": "ad0f41da",
   "metadata": {},
   "outputs": [],
   "source": [
    "class Producto:\n",
    "    def __init__(self, nombre, precio, stock):\n",
    "        self.nombre = nombre\n",
    "        self.precio = precio\n",
    "        self.stock = stock\n",
    "\n",
    "    def mostrar_info(self):\n",
    "        print(f\"Producto: {self.nombre}, Precio: ${self.precio:.2f}, Stock: {self.stock} unidades\")\n",
    "\n",
    "    def vender(self, cantidad):\n",
    "        if self.stock >= cantidad:\n",
    "            self.stock -= cantidad\n",
    "            print(f\"Se vendieron {cantidad} unidades de {self.nombre}. Stock restante: {self.stock}\")\n",
    "            return True\n",
    "        else:\n",
    "            print(f\"No hay suficiente stock de {self.nombre}. Stock actual: {self.stock}\")\n",
    "            return False\n",
    "\n",
    "    def reponer(self, cantidad):\n",
    "        self.stock += cantidad\n",
    "        print(f\"Se repusieron {cantidad} unidades de {self.nombre}. Nuevo stock: {self.stock}\")\n",
    "\n",
    "# Crear algunos productos\n",
    "manzana = Producto(\"Manzana\", 1.50, 100)\n",
    "leche = Producto(\"Leche\", 2.00, 50)\n",
    "pan = Producto(\"Pan\", 2.50, 20)\n",
    "\n",
    "# Interactuar con los productos\n",
    "manzana.mostrar_info()\n",
    "leche.mostrar_info()\n",
    "pan.mostrar_info()\n",
    "\n",
    "print(\"\\n--- Realizando ventas ---\")\n",
    "manzana.vender(30)\n",
    "leche.vender(60) # Esto debería fallar\n",
    "pan.vender(15)\n",
    "\n",
    "print(\"\\n--- Después de las ventas ---\")\n",
    "manzana.mostrar_info()\n",
    "leche.mostrar_info()\n",
    "pan.mostrar_info()\n",
    "\n",
    "print(\"\\n--- Reponiendo stock ---\")\n",
    "leche.reponer(30)\n",
    "leche.mostrar_info()"
   ]
  }
 ],
 "metadata": {
  "kernelspec": {
   "display_name": "Python 3",
   "language": "python",
   "name": "python3"
  },
  "language_info": {
   "name": "python",
   "version": "3.10.6"
  }
 },
 "nbformat": 4,
 "nbformat_minor": 5
}
