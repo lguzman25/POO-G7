{
 "cells": [
  {
   "cell_type": "code",
   "execution_count": null,
   "id": "51a9fb27",
   "metadata": {},
   "outputs": [],
   "source": [
    "class Automovil:\n",
    "    def __init__(self, marca, modelo, color):\n",
    "        self.marca = marca\n",
    "        self.modelo = modelo\n",
    "        self.color = color\n",
    "        self.velocidad = 0 # Atributo inicial que cambia con el tiempo\n",
    "\n",
    "    def arrancar(self):\n",
    "        print(f\"El {self.color} {self.marca} {self.modelo} ha arrancado.\")\n",
    "\n",
    "    def acelerar(self, incremento):\n",
    "        self.velocidad += incremento\n",
    "        print(f\"El {self.marca} {self.modelo} acelera a {self.velocidad} km/h.\")\n",
    "\n",
    "    def frenar(self, decremento):\n",
    "        self.velocidad -= decremento\n",
    "        if self.velocidad < 0:\n",
    "            self.velocidad = 0\n",
    "        print(f\"El {self.marca} {self.modelo} frena a {self.velocidad} km/h.\")\n",
    "\n",
    "    def estado_actual(self):\n",
    "        print(f\"Marca: {self.marca}, Modelo: {self.modelo}, Color: {self.color}, Velocidad: {self.velocidad} km/h.\")\n",
    "\n",
    "# Crear algunos automóviles\n",
    "mi_coche = Automovil(\"Ford\", \"Fiesta\", \"Rojo\")\n",
    "coche_vecino = Automovil(\"Toyota\", \"Corolla\", \"Azul\")\n",
    "\n",
    "# Interactuar con los objetos\n",
    "mi_coche.arrancar()\n",
    "mi_coche.acelerar(50)\n",
    "mi_coche.acelerar(30)\n",
    "mi_coche.frenar(20)\n",
    "mi_coche.estado_actual()\n",
    "\n",
    "print(\"-\" * 20)\n",
    "\n",
    "coche_vecino.arrancar()\n",
    "coche_vecino.acelerar(80)\n",
    "coche_vecino.frenar(10)\n",
    "coche_vecino.estado_actual()"
   ]
  }
 ],
 "metadata": {
  "kernelspec": {
   "display_name": "Python 3",
   "language": "python",
   "name": "python3"
  },
  "language_info": {
   "name": "python",
   "version": "3.10.6"
  }
 },
 "nbformat": 4,
 "nbformat_minor": 5
}
